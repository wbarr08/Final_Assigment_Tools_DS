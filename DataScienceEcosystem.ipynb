{
 "cells": [
  {
   "cell_type": "markdown",
   "id": "765c0816-0fa9-4378-a5fd-8cdfc77ab157",
   "metadata": {},
   "source": [
    "# Data Science Tools and Ecosystem"
   ]
  },
  {
   "cell_type": "markdown",
   "id": "b2e85765-2102-45be-83a7-b580cc7aa6f4",
   "metadata": {},
   "source": [
    "In this notebook, Data Science Tools and Ecosystem are summarized"
   ]
  },
  {
   "cell_type": "markdown",
   "id": "f2e5bc57-4e48-4457-96c1-fc3b20c4ccc6",
   "metadata": {},
   "source": [
    "Some of the popular languages that Data Scientists use are:\n",
    "1. Phyton\n",
    "2. R\n",
    "3. SAS\n",
    "4. SPSS\n",
    "5. Scale"
   ]
  },
  {
   "cell_type": "markdown",
   "id": "477f6f28-1ef4-4d42-9edb-0491751920b9",
   "metadata": {},
   "source": [
    "|Data Science Tools|\n",
    "|------------------|\n",
    "|Jupyter Lab|\n",
    "|R-Studio|\n",
    "|Visual Studio Code|\n"
   ]
  },
  {
   "cell_type": "markdown",
   "id": "74744344-3cee-4887-baf3-c3cf7f2be8f8",
   "metadata": {},
   "source": [
    "### Below are a few examples of evaluating arithmetic expressions in Python."
   ]
  },
  {
   "cell_type": "code",
   "execution_count": null,
   "id": "f2c62cf0-52f2-4eca-b835-e029018ce259",
   "metadata": {},
   "outputs": [],
   "source": [
    "# This a simple arithmetic expression to mutiply then add integers.\n",
    "(3*4)+5"
   ]
  },
  {
   "cell_type": "code",
   "execution_count": null,
   "id": "af11b8f2-8064-4516-9395-f3eb26f78355",
   "metadata": {},
   "outputs": [],
   "source": [
    "# This will convert 200 minutes to hours by diving by 60\n",
    "hours = 200/60\n",
    "print(hours)"
   ]
  },
  {
   "cell_type": "markdown",
   "id": "bbc28d4c-8302-454c-a9f9-11ab65487ac3",
   "metadata": {},
   "source": [
    "##  **Objectives:**\n",
    "* Explain basics items for Markdown\n",
    "* List popular languages for Data Science\n",
    "* Basic comments in code cell\n",
    "* Use Python for basic aritmetic\n",
    "* Create table in Markdown"
   ]
  },
  {
   "cell_type": "markdown",
   "id": "043841e6-5819-4ad8-b799-25a366ea7992",
   "metadata": {},
   "source": [
    "## Author\n",
    "Wilson Barragán"
   ]
  }
 ],
 "metadata": {
  "kernelspec": {
   "display_name": "Python 3 (ipykernel)",
   "language": "python",
   "name": "python3"
  },
  "language_info": {
   "codemirror_mode": {
    "name": "ipython",
    "version": 3
   },
   "file_extension": ".py",
   "mimetype": "text/x-python",
   "name": "python",
   "nbconvert_exporter": "python",
   "pygments_lexer": "ipython3",
   "version": "3.12.8"
  }
 },
 "nbformat": 4,
 "nbformat_minor": 5
}
